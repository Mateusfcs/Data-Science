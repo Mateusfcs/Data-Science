{
  "cells": [
    {
      "cell_type": "markdown",
      "metadata": {
        "id": "view-in-github",
        "colab_type": "text"
      },
      "source": [
        "<a href=\"https://colab.research.google.com/github/Mateusfcs/Data-Science/blob/main/BigData_Analise_Vendas_com_Spark.ipynb\" target=\"_parent\"><img src=\"https://colab.research.google.com/assets/colab-badge.svg\" alt=\"Open In Colab\"/></a>"
      ]
    },
    {
      "cell_type": "markdown",
      "metadata": {
        "id": "6kQXgVUDm36y"
      },
      "source": [
        "# **SETUP**"
      ]
    },
    {
      "cell_type": "markdown",
      "metadata": {
        "id": "hjE_B03_m9Rt"
      },
      "source": [
        "## Spark UI"
      ]
    },
    {
      "cell_type": "code",
      "execution_count": 1,
      "metadata": {
        "colab": {
          "base_uri": "https://localhost:8080/"
        },
        "id": "LxWd0qTjmraa",
        "outputId": "f7492c93-f56f-43eb-e980-1f009307ac19"
      },
      "outputs": [
        {
          "output_type": "stream",
          "name": "stdout",
          "text": [
            "\u001b[2K     \u001b[90m━━━━━━━━━━━━━━━━━━━━━━━━━━━━━━━━━━━━━━━\u001b[0m \u001b[32m310.8/310.8 MB\u001b[0m \u001b[31m4.4 MB/s\u001b[0m eta \u001b[36m0:00:00\u001b[0m\n",
            "\u001b[?25h  Preparing metadata (setup.py) ... \u001b[?25l\u001b[?25hdone\n",
            "  Building wheel for pyspark (setup.py) ... \u001b[?25l\u001b[?25hdone\n",
            "\u001b[2K     \u001b[90m━━━━━━━━━━━━━━━━━━━━━━━━━━━━━━━━━━━━━━\u001b[0m \u001b[32m681.2/681.2 kB\u001b[0m \u001b[31m14.9 MB/s\u001b[0m eta \u001b[36m0:00:00\u001b[0m\n",
            "\u001b[?25h  Preparing metadata (setup.py) ... \u001b[?25l\u001b[?25hdone\n",
            "  Building wheel for pyngrok (setup.py) ... \u001b[?25l\u001b[?25hdone\n"
          ]
        }
      ],
      "source": [
        "!pip install -q pyspark\n",
        "!pip install -q pyngrok\n"
      ]
    },
    {
      "cell_type": "code",
      "execution_count": 2,
      "metadata": {
        "colab": {
          "base_uri": "https://localhost:8080/",
          "height": 219
        },
        "id": "R3ZdnLL5e2ks",
        "outputId": "c2ea411b-04c2-43d5-8d57-b69abf91d687"
      },
      "outputs": [
        {
          "output_type": "execute_result",
          "data": {
            "text/plain": [
              "<pyspark.sql.session.SparkSession at 0x7f00b81c73a0>"
            ],
            "text/html": [
              "\n",
              "            <div>\n",
              "                <p><b>SparkSession - in-memory</b></p>\n",
              "                \n",
              "        <div>\n",
              "            <p><b>SparkContext</b></p>\n",
              "\n",
              "            <p><a href=\"http://2624838f56d2:4050\">Spark UI</a></p>\n",
              "\n",
              "            <dl>\n",
              "              <dt>Version</dt>\n",
              "                <dd><code>v3.4.0</code></dd>\n",
              "              <dt>Master</dt>\n",
              "                <dd><code>local[*]</code></dd>\n",
              "              <dt>AppName</dt>\n",
              "                <dd><code>pyspark-shell</code></dd>\n",
              "            </dl>\n",
              "        </div>\n",
              "        \n",
              "            </div>\n",
              "        "
            ]
          },
          "metadata": {},
          "execution_count": 2
        }
      ],
      "source": [
        "from pyspark.sql import SparkSession\n",
        "spark = SparkSession.builder.config('spark.ui.port', '4050').getOrCreate()\n",
        "spark"
      ]
    },
    {
      "cell_type": "code",
      "execution_count": 3,
      "metadata": {
        "id": "VK5ksALRlODl"
      },
      "outputs": [],
      "source": [
        "# Fazer login no site https://dashboard.ngrok.com/get-started/setup para obter autenticação própria\n",
        "ngrok_token = '27WqUGZ1SkzPl4bQunMXJyasbWZ_5pCgLCsppL7ufk9rzK7j4'"
      ]
    },
    {
      "cell_type": "code",
      "execution_count": 4,
      "metadata": {
        "colab": {
          "base_uri": "https://localhost:8080/"
        },
        "id": "gKPmX_f1gV7C",
        "outputId": "89c7fcab-e5e4-4361-e769-37d05df20241"
      },
      "outputs": [
        {
          "output_type": "stream",
          "name": "stdout",
          "text": [
            "URL para interface Spark:\n"
          ]
        }
      ],
      "source": [
        "get_ipython().system_raw(f'ngrok authtoken {ngrok_token}')\n",
        "get_ipython().system_raw('ngrok http 4050 &')\n",
        "!sleep 3\n",
        "print('URL para interface Spark:')\n",
        "!curl -s http://localhost:4040/api/tunnels | grep -Po 'public_url\":\"(?=https)\\K[^\"]*'"
      ]
    },
    {
      "cell_type": "markdown",
      "metadata": {
        "id": "3hm3CvMdn3Jd"
      },
      "source": [
        "## Libraries"
      ]
    },
    {
      "cell_type": "code",
      "execution_count": 5,
      "metadata": {
        "id": "Yi82wbeZn2jT"
      },
      "outputs": [],
      "source": [
        "import pandas as pd\n",
        "from google.colab import files\n",
        "\n",
        "import pyspark.sql.functions as F\n",
        "from pyspark.sql.window import Window"
      ]
    },
    {
      "cell_type": "markdown",
      "metadata": {
        "id": "D6PpCkDmnjOv"
      },
      "source": [
        "# Load data"
      ]
    },
    {
      "cell_type": "code",
      "execution_count": 6,
      "metadata": {
        "colab": {
          "base_uri": "https://localhost:8080/",
          "height": 74
        },
        "id": "JOMjC3OennnG",
        "outputId": "a9fc76fb-f25f-4bec-de85-a2d9f6167925"
      },
      "outputs": [
        {
          "output_type": "display_data",
          "data": {
            "text/plain": [
              "<IPython.core.display.HTML object>"
            ],
            "text/html": [
              "\n",
              "     <input type=\"file\" id=\"files-a722063a-c16b-4638-811d-c0bc5ce3811f\" name=\"files[]\" multiple disabled\n",
              "        style=\"border:none\" />\n",
              "     <output id=\"result-a722063a-c16b-4638-811d-c0bc5ce3811f\">\n",
              "      Upload widget is only available when the cell has been executed in the\n",
              "      current browser session. Please rerun this cell to enable.\n",
              "      </output>\n",
              "      <script>// Copyright 2017 Google LLC\n",
              "//\n",
              "// Licensed under the Apache License, Version 2.0 (the \"License\");\n",
              "// you may not use this file except in compliance with the License.\n",
              "// You may obtain a copy of the License at\n",
              "//\n",
              "//      http://www.apache.org/licenses/LICENSE-2.0\n",
              "//\n",
              "// Unless required by applicable law or agreed to in writing, software\n",
              "// distributed under the License is distributed on an \"AS IS\" BASIS,\n",
              "// WITHOUT WARRANTIES OR CONDITIONS OF ANY KIND, either express or implied.\n",
              "// See the License for the specific language governing permissions and\n",
              "// limitations under the License.\n",
              "\n",
              "/**\n",
              " * @fileoverview Helpers for google.colab Python module.\n",
              " */\n",
              "(function(scope) {\n",
              "function span(text, styleAttributes = {}) {\n",
              "  const element = document.createElement('span');\n",
              "  element.textContent = text;\n",
              "  for (const key of Object.keys(styleAttributes)) {\n",
              "    element.style[key] = styleAttributes[key];\n",
              "  }\n",
              "  return element;\n",
              "}\n",
              "\n",
              "// Max number of bytes which will be uploaded at a time.\n",
              "const MAX_PAYLOAD_SIZE = 100 * 1024;\n",
              "\n",
              "function _uploadFiles(inputId, outputId) {\n",
              "  const steps = uploadFilesStep(inputId, outputId);\n",
              "  const outputElement = document.getElementById(outputId);\n",
              "  // Cache steps on the outputElement to make it available for the next call\n",
              "  // to uploadFilesContinue from Python.\n",
              "  outputElement.steps = steps;\n",
              "\n",
              "  return _uploadFilesContinue(outputId);\n",
              "}\n",
              "\n",
              "// This is roughly an async generator (not supported in the browser yet),\n",
              "// where there are multiple asynchronous steps and the Python side is going\n",
              "// to poll for completion of each step.\n",
              "// This uses a Promise to block the python side on completion of each step,\n",
              "// then passes the result of the previous step as the input to the next step.\n",
              "function _uploadFilesContinue(outputId) {\n",
              "  const outputElement = document.getElementById(outputId);\n",
              "  const steps = outputElement.steps;\n",
              "\n",
              "  const next = steps.next(outputElement.lastPromiseValue);\n",
              "  return Promise.resolve(next.value.promise).then((value) => {\n",
              "    // Cache the last promise value to make it available to the next\n",
              "    // step of the generator.\n",
              "    outputElement.lastPromiseValue = value;\n",
              "    return next.value.response;\n",
              "  });\n",
              "}\n",
              "\n",
              "/**\n",
              " * Generator function which is called between each async step of the upload\n",
              " * process.\n",
              " * @param {string} inputId Element ID of the input file picker element.\n",
              " * @param {string} outputId Element ID of the output display.\n",
              " * @return {!Iterable<!Object>} Iterable of next steps.\n",
              " */\n",
              "function* uploadFilesStep(inputId, outputId) {\n",
              "  const inputElement = document.getElementById(inputId);\n",
              "  inputElement.disabled = false;\n",
              "\n",
              "  const outputElement = document.getElementById(outputId);\n",
              "  outputElement.innerHTML = '';\n",
              "\n",
              "  const pickedPromise = new Promise((resolve) => {\n",
              "    inputElement.addEventListener('change', (e) => {\n",
              "      resolve(e.target.files);\n",
              "    });\n",
              "  });\n",
              "\n",
              "  const cancel = document.createElement('button');\n",
              "  inputElement.parentElement.appendChild(cancel);\n",
              "  cancel.textContent = 'Cancel upload';\n",
              "  const cancelPromise = new Promise((resolve) => {\n",
              "    cancel.onclick = () => {\n",
              "      resolve(null);\n",
              "    };\n",
              "  });\n",
              "\n",
              "  // Wait for the user to pick the files.\n",
              "  const files = yield {\n",
              "    promise: Promise.race([pickedPromise, cancelPromise]),\n",
              "    response: {\n",
              "      action: 'starting',\n",
              "    }\n",
              "  };\n",
              "\n",
              "  cancel.remove();\n",
              "\n",
              "  // Disable the input element since further picks are not allowed.\n",
              "  inputElement.disabled = true;\n",
              "\n",
              "  if (!files) {\n",
              "    return {\n",
              "      response: {\n",
              "        action: 'complete',\n",
              "      }\n",
              "    };\n",
              "  }\n",
              "\n",
              "  for (const file of files) {\n",
              "    const li = document.createElement('li');\n",
              "    li.append(span(file.name, {fontWeight: 'bold'}));\n",
              "    li.append(span(\n",
              "        `(${file.type || 'n/a'}) - ${file.size} bytes, ` +\n",
              "        `last modified: ${\n",
              "            file.lastModifiedDate ? file.lastModifiedDate.toLocaleDateString() :\n",
              "                                    'n/a'} - `));\n",
              "    const percent = span('0% done');\n",
              "    li.appendChild(percent);\n",
              "\n",
              "    outputElement.appendChild(li);\n",
              "\n",
              "    const fileDataPromise = new Promise((resolve) => {\n",
              "      const reader = new FileReader();\n",
              "      reader.onload = (e) => {\n",
              "        resolve(e.target.result);\n",
              "      };\n",
              "      reader.readAsArrayBuffer(file);\n",
              "    });\n",
              "    // Wait for the data to be ready.\n",
              "    let fileData = yield {\n",
              "      promise: fileDataPromise,\n",
              "      response: {\n",
              "        action: 'continue',\n",
              "      }\n",
              "    };\n",
              "\n",
              "    // Use a chunked sending to avoid message size limits. See b/62115660.\n",
              "    let position = 0;\n",
              "    do {\n",
              "      const length = Math.min(fileData.byteLength - position, MAX_PAYLOAD_SIZE);\n",
              "      const chunk = new Uint8Array(fileData, position, length);\n",
              "      position += length;\n",
              "\n",
              "      const base64 = btoa(String.fromCharCode.apply(null, chunk));\n",
              "      yield {\n",
              "        response: {\n",
              "          action: 'append',\n",
              "          file: file.name,\n",
              "          data: base64,\n",
              "        },\n",
              "      };\n",
              "\n",
              "      let percentDone = fileData.byteLength === 0 ?\n",
              "          100 :\n",
              "          Math.round((position / fileData.byteLength) * 100);\n",
              "      percent.textContent = `${percentDone}% done`;\n",
              "\n",
              "    } while (position < fileData.byteLength);\n",
              "  }\n",
              "\n",
              "  // All done.\n",
              "  yield {\n",
              "    response: {\n",
              "      action: 'complete',\n",
              "    }\n",
              "  };\n",
              "}\n",
              "\n",
              "scope.google = scope.google || {};\n",
              "scope.google.colab = scope.google.colab || {};\n",
              "scope.google.colab._files = {\n",
              "  _uploadFiles,\n",
              "  _uploadFilesContinue,\n",
              "};\n",
              "})(self);\n",
              "</script> "
            ]
          },
          "metadata": {}
        },
        {
          "output_type": "stream",
          "name": "stdout",
          "text": [
            "Saving vgsales.csv to vgsales (1).csv\n"
          ]
        }
      ],
      "source": [
        "# Load file\n",
        "_ = files.upload()"
      ]
    },
    {
      "cell_type": "markdown",
      "metadata": {
        "id": "7Rl5rJY6AaGB"
      },
      "source": [
        "## Data Description\n",
        "\n",
        "This dataset contains records of popular video games in North America, Japan, Europe and other parts of the world. Every video game in this dataset has at least 100k global sales.\n",
        "\n",
        "[Source](https://www.kaggle.com/datasets/gregorut/videogamesales/code?datasetId=284&sortBy=voteCount) of dataset."
      ]
    },
    {
      "cell_type": "code",
      "source": [
        "df = spark.read.csv('vgsales.csv', header=True, inferSchema=True)"
      ],
      "metadata": {
        "id": "DmBOVQY7Sa2l"
      },
      "execution_count": 9,
      "outputs": []
    },
    {
      "cell_type": "code",
      "source": [
        "df.show()"
      ],
      "metadata": {
        "colab": {
          "base_uri": "https://localhost:8080/"
        },
        "id": "PYegEfSKSg7z",
        "outputId": "150cb287-126a-4cd0-d6d3-4a6f30cab3a7"
      },
      "execution_count": 14,
      "outputs": [
        {
          "output_type": "stream",
          "name": "stdout",
          "text": [
            "+----+--------------------+--------+----+------------+--------------------+--------+--------+--------+-----------+------------+\n",
            "|Rank|                Name|Platform|Year|       Genre|           Publisher|NA_Sales|EU_Sales|JP_Sales|Other_Sales|Global_Sales|\n",
            "+----+--------------------+--------+----+------------+--------------------+--------+--------+--------+-----------+------------+\n",
            "|   1|          Wii Sports|     Wii|2006|      Sports|            Nintendo|   41.49|   29.02|    3.77|       8.46|       82.74|\n",
            "|   2|   Super Mario Bros.|     NES|1985|    Platform|            Nintendo|   29.08|    3.58|    6.81|       0.77|       40.24|\n",
            "|   3|      Mario Kart Wii|     Wii|2008|      Racing|            Nintendo|   15.85|   12.88|    3.79|       3.31|       35.82|\n",
            "|   4|   Wii Sports Resort|     Wii|2009|      Sports|            Nintendo|   15.75|   11.01|    3.28|       2.96|        33.0|\n",
            "|   5|Pokemon Red/Pokem...|      GB|1996|Role-Playing|            Nintendo|   11.27|    8.89|   10.22|        1.0|       31.37|\n",
            "|   6|              Tetris|      GB|1989|      Puzzle|            Nintendo|    23.2|    2.26|    4.22|       0.58|       30.26|\n",
            "|   7|New Super Mario B...|      DS|2006|    Platform|            Nintendo|   11.38|    9.23|     6.5|        2.9|       30.01|\n",
            "|   8|            Wii Play|     Wii|2006|        Misc|            Nintendo|   14.03|     9.2|    2.93|       2.85|       29.02|\n",
            "|   9|New Super Mario B...|     Wii|2009|    Platform|            Nintendo|   14.59|    7.06|     4.7|       2.26|       28.62|\n",
            "|  10|           Duck Hunt|     NES|1984|     Shooter|            Nintendo|   26.93|    0.63|    0.28|       0.47|       28.31|\n",
            "|  11|          Nintendogs|      DS|2005|  Simulation|            Nintendo|    9.07|    11.0|    1.93|       2.75|       24.76|\n",
            "|  12|       Mario Kart DS|      DS|2005|      Racing|            Nintendo|    9.81|    7.57|    4.13|       1.92|       23.42|\n",
            "|  13|Pokemon Gold/Poke...|      GB|1999|Role-Playing|            Nintendo|     9.0|    6.18|     7.2|       0.71|        23.1|\n",
            "|  14|             Wii Fit|     Wii|2007|      Sports|            Nintendo|    8.94|    8.03|     3.6|       2.15|       22.72|\n",
            "|  15|        Wii Fit Plus|     Wii|2009|      Sports|            Nintendo|    9.09|    8.59|    2.53|       1.79|        22.0|\n",
            "|  16|  Kinect Adventures!|    X360|2010|        Misc|Microsoft Game St...|   14.97|    4.94|    0.24|       1.67|       21.82|\n",
            "|  17|  Grand Theft Auto V|     PS3|2013|      Action|Take-Two Interactive|    7.01|    9.27|    0.97|       4.14|        21.4|\n",
            "|  18|Grand Theft Auto:...|     PS2|2004|      Action|Take-Two Interactive|    9.43|     0.4|    0.41|      10.57|       20.81|\n",
            "|  19|   Super Mario World|    SNES|1990|    Platform|            Nintendo|   12.78|    3.75|    3.54|       0.55|       20.61|\n",
            "|  20|Brain Age: Train ...|      DS|2005|        Misc|            Nintendo|    4.75|    9.26|    4.16|       2.05|       20.22|\n",
            "+----+--------------------+--------+----+------------+--------------------+--------+--------+--------+-----------+------------+\n",
            "only showing top 20 rows\n",
            "\n"
          ]
        }
      ]
    },
    {
      "cell_type": "markdown",
      "metadata": {
        "id": "UA1MxT30BH3y"
      },
      "source": [
        "## Data Dictionary\n",
        "\n",
        "| Column       | Explanation                                               |\n",
        "|:-------------|:----------------------------------------------------------|\n",
        "| Rank         | Ranking of overall sales                                  |\n",
        "| Name         | Name of the game                                          |\n",
        "| Platform     | Platform of the games release (i.e. PC,PS4, etc.)         |\n",
        "| Year         | Year the game was released in                             |\n",
        "| Genre        | Genre of the game                                         |\n",
        "| Publisher    | Publisher of the game                                     |\n",
        "| NA_Sales     | Number of sales in North America (in millions)            |\n",
        "| EU_Sales     | Number of sales in Europe (in millions)                   |\n",
        "| JP_Sales     | Number of sales in Japan (in millions)                    |\n",
        "| Other_Sales  | Number of sales in other parts of the world (in millions) |\n",
        "| Global_Sales | Number of total sales (in millions)                       |"
      ]
    },
    {
      "cell_type": "markdown",
      "metadata": {
        "id": "3Da460witUFZ"
      },
      "source": [
        "# Questões"
      ]
    },
    {
      "cell_type": "markdown",
      "metadata": {
        "id": "MS3XUkPRrOzh"
      },
      "source": [
        "## Questão 1\n",
        "\n",
        "Leia os dados com Spark, certificando-se que\n",
        "\n",
        "1. A tabela tenha duas partições e\n",
        "\n",
        "2. As colunas da tabela tenham este respectivo schema:\n",
        "\n",
        "|Column|Data type|\n",
        "|---|---|\n",
        "|Rank|integer|\n",
        "|Name|string|\n",
        "|Platform|string|\n",
        "|Year|integer|\n",
        "|Genre|string|\n",
        "|Publisher|string|\n",
        "|NA_Sales|double|\n",
        "|EU_Sales|double|\n",
        "|JP_Sales|double|\n",
        "|Other_Sales|double|\n",
        "|Global_Sales|double|"
      ]
    },
    {
      "cell_type": "code",
      "execution_count": 37,
      "metadata": {
        "id": "ijg3-iMHr-_C",
        "colab": {
          "base_uri": "https://localhost:8080/"
        },
        "outputId": "72b40d11-8451-4302-e704-54313d5dd262"
      },
      "outputs": [
        {
          "output_type": "execute_result",
          "data": {
            "text/plain": [
              "[('Rank', 'int'),\n",
              " ('Name', 'string'),\n",
              " ('Platform', 'string'),\n",
              " ('Year', 'string'),\n",
              " ('Genre', 'string'),\n",
              " ('Publisher', 'string'),\n",
              " ('NA_Sales', 'double'),\n",
              " ('EU_Sales', 'double'),\n",
              " ('JP_Sales', 'double'),\n",
              " ('Other_Sales', 'double'),\n",
              " ('Global_Sales', 'double')]"
            ]
          },
          "metadata": {},
          "execution_count": 37
        }
      ],
      "source": [
        "#df.printSchema()\n",
        "df.dtypes"
      ]
    },
    {
      "cell_type": "markdown",
      "metadata": {
        "id": "GJe0H1AQsL15"
      },
      "source": [
        "## Questão 2\n",
        "\n",
        "Construa uma tabela com:\n",
        "- contagem das observações\n",
        "- média\n",
        "- desvio padrão\n",
        "- valor mínimo\n",
        "- valor máximo\n",
        "\n",
        "para todas as coluna de vendas (que possuem \"Sales\" no nome).\n",
        "\n",
        "**Dica:** uma **única função** consegue calcular todos estes valores."
      ]
    },
    {
      "cell_type": "code",
      "execution_count": 27,
      "metadata": {
        "id": "CLGOCHisRt_m",
        "colab": {
          "base_uri": "https://localhost:8080/"
        },
        "outputId": "ed43eeae-32bf-4d88-d5d7-74157b723caa"
      },
      "outputs": [
        {
          "output_type": "stream",
          "name": "stdout",
          "text": [
            "+-------+-------------------+------------------+-------------------+--------------------+------------------+\n",
            "|summary|           NA_Sales|          EU_Sales|           JP_Sales|         Other_Sales|      Global_Sales|\n",
            "+-------+-------------------+------------------+-------------------+--------------------+------------------+\n",
            "|  count|              16598|             16598|              16598|               16598|             16598|\n",
            "|   mean|0.26466742981084057|0.1466520062658483|0.07778166044101108|0.048063019640913515|  0.53744065550074|\n",
            "| stddev| 0.8166830292988798|0.5053512312869136| 0.3092906480822022| 0.18858840291271395|1.5550279355699066|\n",
            "|    min|                0.0|               0.0|                0.0|                 0.0|              0.01|\n",
            "|    max|              41.49|             29.02|              10.22|               10.57|             82.74|\n",
            "+-------+-------------------+------------------+-------------------+--------------------+------------------+\n",
            "\n"
          ]
        }
      ],
      "source": [
        "#Filtrando as colunas com 'Sales' no nome\n",
        "sales_columns = [col for col in df.columns if 'Sales' in col]\n",
        "\n",
        "# Calculando count, mean, std, min e max das colunas de  'Sales'\n",
        "sales_summary = df.select(sales_columns).describe()\n",
        "\n",
        "# Exibindo as informações\n",
        "sales_summary.show()"
      ]
    },
    {
      "cell_type": "markdown",
      "metadata": {
        "id": "qw6Yw6OELil0"
      },
      "source": [
        "## Questão 3\n",
        "\n",
        "Para cada variável categórica do tipo string, calcule quantas categorias distintas estão presentes."
      ]
    },
    {
      "cell_type": "code",
      "execution_count": 35,
      "metadata": {
        "id": "MXxCgIl7Rvze",
        "colab": {
          "base_uri": "https://localhost:8080/"
        },
        "outputId": "3e79357b-3c87-4080-ef2f-8cae06d526f7"
      },
      "outputs": [
        {
          "output_type": "stream",
          "name": "stdout",
          "text": [
            "A coluna 'Name' possui 11493 categorias distintas.\n",
            "A coluna 'Platform' possui 31 categorias distintas.\n",
            "A coluna 'Year' possui 40 categorias distintas.\n",
            "A coluna 'Genre' possui 12 categorias distintas.\n",
            "A coluna 'Publisher' possui 579 categorias distintas.\n"
          ]
        }
      ],
      "source": [
        "string_columns = [col for col, dtype in df.dtypes if dtype == 'string']\n",
        "\n",
        "# Calculando o número de categorias distintas para cada coluna\n",
        "distinct_counts = {}\n",
        "for col in string_columns:\n",
        "    distinct_count = df.select(col).distinct().count()\n",
        "    distinct_counts[col] = distinct_count\n",
        "\n",
        "# Exibindo o número de categorias distintas para cada coluna\n",
        "for col, count in distinct_counts.items():\n",
        "    print(f\"A coluna '{col}' possui {count} categorias distintas.\")"
      ]
    },
    {
      "cell_type": "markdown",
      "metadata": {
        "id": "L6nphScqOFEd"
      },
      "source": [
        "**Resposta:** A região da Europa e \"Outras regiões\" tiverem um aumento notável quando comparado ao ínicio da década de 90."
      ]
    },
    {
      "cell_type": "markdown",
      "metadata": {
        "id": "qlb1nF-0UTby"
      },
      "source": [
        "## Questão 4\n",
        "\n",
        "Qual plataforma vendeu mais, mundialmente, considerando todo o período histórico diponível dos dados?  \n",
        "Mostre as top 10 plataformas em vendas."
      ]
    },
    {
      "cell_type": "code",
      "execution_count": 49,
      "metadata": {
        "id": "viv9CMtVRw1I",
        "colab": {
          "base_uri": "https://localhost:8080/"
        },
        "outputId": "e6626691-91f9-43d4-eecf-57dca90cbadc"
      },
      "outputs": [
        {
          "output_type": "stream",
          "name": "stdout",
          "text": [
            "+--------+------------------+\n",
            "|Platform|       Total_Sales|\n",
            "+--------+------------------+\n",
            "|     PS2|1255.6399999999871|\n",
            "|    X360| 979.9599999999996|\n",
            "|     PS3| 957.8399999999987|\n",
            "|     Wii| 926.7099999999971|\n",
            "|      DS| 822.4899999999874|\n",
            "|      PS|  730.659999999997|\n",
            "|     GBA|  318.499999999998|\n",
            "|     PSP| 296.2799999999948|\n",
            "|     PS4| 278.0999999999994|\n",
            "|      PC|258.81999999999846|\n",
            "+--------+------------------+\n",
            "\n"
          ]
        }
      ],
      "source": [
        "from pyspark.sql.functions import sum, desc\n",
        "#Ordenando pela coluna de Plataforma e calculando vendas totais\n",
        "platform_sales = df.groupBy(\"Platform\").agg(sum(\"Global_Sales\").alias(\"Total_Sales\"))\n",
        "\n",
        "# Ordenando em ordem decrescente e mostrando as top 10 plataformas em vendas\n",
        "top_10_platforms = platform_sales.orderBy(desc(\"Total_Sales\")).limit(10)\n",
        "\n",
        "top_10_platforms.show()"
      ]
    },
    {
      "cell_type": "markdown",
      "metadata": {
        "id": "ktxA1kpuT1ak"
      },
      "source": [
        "## Questão 5\n",
        "\n",
        "Faça uma tabela com os jogos que aparecem em múltiplas plataformas, ordene de forma que os jogos com mais plataformas apareçam primeiro e responda:\n",
        "- Qual jogo aparece em mais plataformas? Em quantas plataformas?"
      ]
    },
    {
      "cell_type": "code",
      "execution_count": 53,
      "metadata": {
        "id": "cf7mFwYORx7K",
        "colab": {
          "base_uri": "https://localhost:8080/"
        },
        "outputId": "cca63a33-9c40-4d07-cc8f-f611287046fa"
      },
      "outputs": [
        {
          "output_type": "stream",
          "name": "stdout",
          "text": [
            "+--------------------+-------------+\n",
            "|                Name|Num_Platforms|\n",
            "+--------------------+-------------+\n",
            "|Need for Speed: M...|           10|\n",
            "|LEGO Marvel Super...|            9|\n",
            "|       Madden NFL 07|            9|\n",
            "|         Ratatouille|            9|\n",
            "|             FIFA 14|            9|\n",
            "|             FIFA 15|            8|\n",
            "|            Terraria|            8|\n",
            "|            Monopoly|            8|\n",
            "|     LEGO The Hobbit|            8|\n",
            "| LEGO Jurassic World|            8|\n",
            "|       Madden NFL 08|            8|\n",
            "|      FIFA Soccer 13|            8|\n",
            "|Lego Batman 3: Be...|            8|\n",
            "|LEGO Harry Potter...|            8|\n",
            "|LEGO Star Wars II...|            8|\n",
            "|Angry Birds Star ...|            8|\n",
            "|                Cars|            8|\n",
            "|The LEGO Movie Vi...|            8|\n",
            "|      FIFA Soccer 08|            7|\n",
            "|        Spider-Man 3|            7|\n",
            "+--------------------+-------------+\n",
            "only showing top 20 rows\n",
            "\n"
          ]
        }
      ],
      "source": [
        "from pyspark.sql.functions import countDistinct\n",
        "# Agrupar por nome do jogo e contar o número de plataformas únicas\n",
        "multi_platform_games = df.groupBy(\"Name\").agg(countDistinct(\"Platform\").alias(\"Num_Platforms\"))\n",
        "\n",
        "# Ordenar em ordem decrescente com base no número de plataformas\n",
        "multi_platform_games = multi_platform_games.orderBy(desc(\"Num_Platforms\"))\n",
        "\n",
        "# Exibir a tabela com os jogos em múltiplas plataformas\n",
        "multi_platform_games.show()\n",
        "\n",
        "\n"
      ]
    },
    {
      "cell_type": "markdown",
      "metadata": {
        "id": "0jxfWN5sVPy0"
      },
      "source": [
        "**Resposta:** Need for Speed: Most Wanted. Aparece em 10 plataformas."
      ]
    },
    {
      "cell_type": "markdown",
      "metadata": {
        "id": "KTKsAT2KUVgZ"
      },
      "source": [
        "## Questão 6\n",
        "\n",
        "Utilize a API do Pandas no Spark para calcular a soma das vendas globais para cada ano e gênro de jogo. Faça então um gráfico de linhas com os anos no eixo `x`, as vendas no eixo `y`, de forma que cada linha corresponda a um gênero de jogo.\n",
        "\n",
        "**Dica:** após o cálculo, passar os dados para Pandas antes da plotagem, ou plotar diretamente aproveitando os métodos da classe `pyspark.pandas.DataFrame`.\n",
        "\n",
        "Analise o gráfico e responda:\n",
        "- Entre 1980 e 1990, quais gêneros mais venderam?\n",
        "- Entre 2000 e 2015, quais gêneros mais venderam?"
      ]
    },
    {
      "cell_type": "code",
      "execution_count": 79,
      "metadata": {
        "id": "zO39_am_Ry3W",
        "colab": {
          "base_uri": "https://localhost:8080/",
          "height": 542
        },
        "outputId": "87f2207a-2976-449c-9958-0e08ef415545"
      },
      "outputs": [
        {
          "output_type": "display_data",
          "data": {
            "text/html": [
              "<html>\n",
              "<head><meta charset=\"utf-8\" /></head>\n",
              "<body>\n",
              "    <div>            <script src=\"https://cdnjs.cloudflare.com/ajax/libs/mathjax/2.7.5/MathJax.js?config=TeX-AMS-MML_SVG\"></script><script type=\"text/javascript\">if (window.MathJax && window.MathJax.Hub && window.MathJax.Hub.Config) {window.MathJax.Hub.Config({SVG: {font: \"STIX-Web\"}});}</script>                <script type=\"text/javascript\">window.PlotlyConfig = {MathJaxConfig: 'local'};</script>\n",
              "        <script src=\"https://cdn.plot.ly/plotly-2.18.2.min.js\"></script>                <div id=\"e5920961-9348-4e34-85aa-06c16df56669\" class=\"plotly-graph-div\" style=\"height:525px; width:100%;\"></div>            <script type=\"text/javascript\">                                    window.PLOTLYENV=window.PLOTLYENV || {};                                    if (document.getElementById(\"e5920961-9348-4e34-85aa-06c16df56669\")) {                    Plotly.newPlot(                        \"e5920961-9348-4e34-85aa-06c16df56669\",                        [{\"hovertemplate\":\"Genre=Action<br>Year=%{x}<br>Global_Sales=%{y}<extra></extra>\",\"legendgroup\":\"Action\",\"line\":{\"color\":\"#636efa\",\"dash\":\"solid\"},\"marker\":{\"symbol\":\"circle\"},\"mode\":\"lines\",\"name\":\"Action\",\"orientation\":\"v\",\"showlegend\":true,\"x\":[\"1980\",\"1981\",\"1982\",\"1983\",\"1984\",\"1985\",\"1986\",\"1987\",\"1988\",\"1989\",\"1990\",\"1991\",\"1992\",\"1993\",\"1994\",\"1995\",\"1996\",\"1997\",\"1998\",\"1999\",\"2000\",\"2001\",\"2002\",\"2003\",\"2004\",\"2005\",\"2006\",\"2007\",\"2008\",\"2009\",\"2010\",\"2011\",\"2012\",\"2013\",\"2014\",\"2015\",\"2016\",\"2017\",\"N/A\"],\"xaxis\":\"x\",\"y\":[0.34,14.84,6.52,2.86,1.85,3.52,13.740000000000002,1.12,1.75,4.64,6.390000000000001,6.76,3.83,1.81,1.55,3.5700000000000007,20.580000000000005,27.580000000000002,39.440000000000005,27.77999999999999,34.04000000000002,59.39000000000001,86.76999999999992,67.92999999999999,76.25999999999998,85.69000000000005,66.58,106.50000000000006,136.39,139.3600000000001,117.63999999999997,118.96000000000001,122.03999999999988,125.22,99.02000000000008,70.69999999999996,19.910000000000025,0.01,28.300000000000008],\"yaxis\":\"y\",\"type\":\"scatter\"},{\"hovertemplate\":\"Genre=Fighting<br>Year=%{x}<br>Global_Sales=%{y}<extra></extra>\",\"legendgroup\":\"Fighting\",\"line\":{\"color\":\"#EF553B\",\"dash\":\"solid\"},\"marker\":{\"symbol\":\"circle\"},\"mode\":\"lines\",\"name\":\"Fighting\",\"orientation\":\"v\",\"showlegend\":true,\"x\":[\"1980\",\"1985\",\"1987\",\"1991\",\"1992\",\"1993\",\"1994\",\"1995\",\"1996\",\"1997\",\"1998\",\"1999\",\"2000\",\"2001\",\"2002\",\"2003\",\"2004\",\"2005\",\"2006\",\"2007\",\"2008\",\"2009\",\"2010\",\"2011\",\"2012\",\"2013\",\"2014\",\"2015\",\"2016\",\"N/A\"],\"xaxis\":\"x\",\"y\":[0.77,1.05,5.42,0.39,15.25,8.750000000000002,8.47,14.85,18.06000000000001,11.76,31.660000000000018,14.259999999999994,20.22,18.12,25.020000000000003,23.730000000000004,16.780000000000005,19.71999999999999,22.55,17.609999999999996,35.37999999999999,32.15,14.890000000000002,22.68,9.51,7.21,16.15,7.78,3.859999999999999,4.86],\"yaxis\":\"y\",\"type\":\"scatter\"},{\"hovertemplate\":\"Genre=Misc<br>Year=%{x}<br>Global_Sales=%{y}<extra></extra>\",\"legendgroup\":\"Misc\",\"line\":{\"color\":\"#00cc96\",\"dash\":\"solid\"},\"marker\":{\"symbol\":\"circle\"},\"mode\":\"lines\",\"name\":\"Misc\",\"orientation\":\"v\",\"showlegend\":true,\"x\":[\"1980\",\"1982\",\"1983\",\"1984\",\"1989\",\"1991\",\"1992\",\"1993\",\"1994\",\"1995\",\"1996\",\"1997\",\"1998\",\"1999\",\"2000\",\"2001\",\"2002\",\"2003\",\"2004\",\"2005\",\"2006\",\"2007\",\"2008\",\"2009\",\"2010\",\"2011\",\"2012\",\"2013\",\"2014\",\"2015\",\"2016\",\"N/A\"],\"xaxis\":\"x\",\"y\":[2.71,0.87,2.14,1.45,1.28,0.08,4.9399999999999995,0.3,2.8599999999999994,6.4,10.679999999999994,5.6899999999999995,11.940000000000003,20.649999999999995,15.54,16.400000000000002,15.669999999999998,23.82,31.319999999999993,61.24,67.34999999999995,92.27,87.03000000000004,76.94000000000001,96.86000000000001,56.08,22.920000000000012,25.65,23.68000000000001,11.689999999999998,1.1700000000000004,12.339999999999998],\"yaxis\":\"y\",\"type\":\"scatter\"},{\"hovertemplate\":\"Genre=Shooter<br>Year=%{x}<br>Global_Sales=%{y}<extra></extra>\",\"legendgroup\":\"Shooter\",\"line\":{\"color\":\"#ab63fa\",\"dash\":\"solid\"},\"marker\":{\"symbol\":\"circle\"},\"mode\":\"lines\",\"name\":\"Shooter\",\"orientation\":\"v\",\"showlegend\":true,\"x\":[\"1980\",\"1981\",\"1982\",\"1983\",\"1984\",\"1985\",\"1986\",\"1987\",\"1988\",\"1989\",\"1991\",\"1992\",\"1993\",\"1994\",\"1995\",\"1996\",\"1997\",\"1998\",\"1999\",\"2000\",\"2001\",\"2002\",\"2003\",\"2004\",\"2005\",\"2006\",\"2007\",\"2008\",\"2009\",\"2010\",\"2011\",\"2012\",\"2013\",\"2014\",\"2015\",\"2016\",\"N/A\"],\"xaxis\":\"x\",\"y\":[7.069999999999999,10.040000000000001,3.79,0.48,31.099999999999998,1.0,3.89,0.71,0.51,1.2,2.0,0.29000000000000004,3.08,8.3,4.1499999999999995,6.91,22.169999999999998,9.799999999999997,12.249999999999998,6.81,24.770000000000003,48.579999999999984,27.140000000000008,46.95000000000003,41.60000000000003,38.37000000000004,71.03999999999999,59.51000000000001,69.89000000000001,77.40999999999994,99.36,72.85999999999999,62.799999999999976,65.99999999999996,66.14999999999999,18.219999999999995,11.169999999999996],\"yaxis\":\"y\",\"type\":\"scatter\"},{\"hovertemplate\":\"Genre=Sports<br>Year=%{x}<br>Global_Sales=%{y}<extra></extra>\",\"legendgroup\":\"Sports\",\"line\":{\"color\":\"#FFA15A\",\"dash\":\"solid\"},\"marker\":{\"symbol\":\"circle\"},\"mode\":\"lines\",\"name\":\"Sports\",\"orientation\":\"v\",\"showlegend\":true,\"x\":[\"1980\",\"1981\",\"1982\",\"1983\",\"1984\",\"1985\",\"1986\",\"1987\",\"1988\",\"1989\",\"1990\",\"1991\",\"1992\",\"1993\",\"1994\",\"1995\",\"1996\",\"1997\",\"1998\",\"1999\",\"2000\",\"2001\",\"2002\",\"2003\",\"2004\",\"2005\",\"2006\",\"2007\",\"2008\",\"2009\",\"2010\",\"2011\",\"2012\",\"2013\",\"2014\",\"2015\",\"2016\",\"N/A\"],\"xaxis\":\"x\",\"y\":[0.49,0.7899999999999999,1.05,3.2,6.18,1.96,5.57,3.7199999999999998,3.5999999999999996,5.720000000000001,2.11,2.4099999999999997,2.95,3.1799999999999997,8.389999999999999,7.980000000000002,17.450000000000006,30.020000000000003,41.79000000000002,30.289999999999996,41.19,51.43000000000002,65.41999999999999,56.11,63.68000000000003,59.540000000000035,136.16000000000003,98.20000000000002,95.33999999999996,138.5200000000001,92.53,56.990000000000016,30.930000000000007,41.550000000000026,46.66,41.54000000000001,14.599999999999996,21.689999999999998],\"yaxis\":\"y\",\"type\":\"scatter\"},{\"hovertemplate\":\"Genre=Platform<br>Year=%{x}<br>Global_Sales=%{y}<extra></extra>\",\"legendgroup\":\"Platform\",\"line\":{\"color\":\"#19d3f3\",\"dash\":\"solid\"},\"marker\":{\"symbol\":\"circle\"},\"mode\":\"lines\",\"name\":\"Platform\",\"orientation\":\"v\",\"showlegend\":true,\"x\":[\"1981\",\"1982\",\"1983\",\"1984\",\"1985\",\"1986\",\"1987\",\"1988\",\"1989\",\"1990\",\"1991\",\"1992\",\"1993\",\"1994\",\"1995\",\"1996\",\"1997\",\"1998\",\"1999\",\"2000\",\"2001\",\"2002\",\"2003\",\"2004\",\"2005\",\"2006\",\"2007\",\"2008\",\"2009\",\"2010\",\"2011\",\"2012\",\"2013\",\"2014\",\"2015\",\"2016\",\"N/A\"],\"xaxis\":\"x\",\"y\":[6.93,5.03,6.93,0.69,43.17,9.39,1.7400000000000002,27.73,20.660000000000004,22.97,7.64,13.42,18.669999999999998,28.740000000000002,16.689999999999998,28.23,21.849999999999998,29.879999999999992,20.82,16.06,39.28,45.970000000000006,42.89,47.34000000000001,23.56,49.800000000000004,35.59,35.70000000000002,41.09000000000001,31.900000000000002,28.109999999999992,18.549999999999997,25.12,8.89,6.050000000000002,2.0699999999999994,2.2199999999999998],\"yaxis\":\"y\",\"type\":\"scatter\"},{\"hovertemplate\":\"Genre=Puzzle<br>Year=%{x}<br>Global_Sales=%{y}<extra></extra>\",\"legendgroup\":\"Puzzle\",\"line\":{\"color\":\"#FF6692\",\"dash\":\"solid\"},\"marker\":{\"symbol\":\"circle\"},\"mode\":\"lines\",\"name\":\"Puzzle\",\"orientation\":\"v\",\"showlegend\":true,\"x\":[\"1981\",\"1982\",\"1983\",\"1984\",\"1985\",\"1988\",\"1989\",\"1990\",\"1991\",\"1992\",\"1993\",\"1994\",\"1995\",\"1996\",\"1997\",\"1998\",\"1999\",\"2000\",\"2001\",\"2002\",\"2003\",\"2004\",\"2005\",\"2006\",\"2007\",\"2008\",\"2009\",\"2010\",\"2011\",\"2012\",\"2013\",\"2014\",\"2015\",\"N/A\"],\"xaxis\":\"x\",\"y\":[2.2399999999999998,10.03,0.78,3.14,3.2100000000000004,5.58,37.75,6.0,3.2399999999999998,4.840000000000001,3.17,1.53,2.7099999999999995,3.91,5.890000000000001,6.339999999999999,1.36,3.82,7.999999999999998,5.339999999999997,2.4199999999999995,8.429999999999998,20.449999999999992,10.899999999999997,23.999999999999993,15.589999999999993,20.31000000000001,11.179999999999993,5.109999999999997,1.7600000000000005,0.99,1.5000000000000002,0.7000000000000002,2.73],\"yaxis\":\"y\",\"type\":\"scatter\"},{\"hovertemplate\":\"Genre=Racing<br>Year=%{x}<br>Global_Sales=%{y}<extra></extra>\",\"legendgroup\":\"Racing\",\"line\":{\"color\":\"#B6E880\",\"dash\":\"solid\"},\"marker\":{\"symbol\":\"circle\"},\"mode\":\"lines\",\"name\":\"Racing\",\"orientation\":\"v\",\"showlegend\":true,\"x\":[\"1981\",\"1982\",\"1984\",\"1986\",\"1988\",\"1990\",\"1991\",\"1992\",\"1993\",\"1994\",\"1995\",\"1996\",\"1997\",\"1998\",\"1999\",\"2000\",\"2001\",\"2002\",\"2003\",\"2004\",\"2005\",\"2006\",\"2007\",\"2008\",\"2009\",\"2010\",\"2011\",\"2012\",\"2013\",\"2014\",\"2015\",\"2016\",\"N/A\"],\"xaxis\":\"x\",\"y\":[0.48,1.5699999999999998,5.949999999999999,1.96,2.14,6.26,1.14,9.04,0.36,2.1899999999999995,6.09,28.23999999999999,31.910000000000004,27.89999999999999,37.27,19.990000000000002,55.809999999999995,30.200000000000003,52.190000000000026,47.86000000000003,56.42000000000003,34.09000000000002,39.170000000000016,70.66,34.19000000000002,34.93,35.010000000000005,14.459999999999997,13.040000000000001,16.69000000000001,7.92,1.6400000000000006,5.269999999999999],\"yaxis\":\"y\",\"type\":\"scatter\"},{\"hovertemplate\":\"Genre=Simulation<br>Year=%{x}<br>Global_Sales=%{y}<extra></extra>\",\"legendgroup\":\"Simulation\",\"line\":{\"color\":\"#FF97FF\",\"dash\":\"solid\"},\"marker\":{\"symbol\":\"circle\"},\"mode\":\"lines\",\"name\":\"Simulation\",\"orientation\":\"v\",\"showlegend\":true,\"x\":[\"1981\",\"1985\",\"1988\",\"1990\",\"1991\",\"1992\",\"1993\",\"1994\",\"1995\",\"1996\",\"1997\",\"1998\",\"1999\",\"2000\",\"2001\",\"2002\",\"2003\",\"2004\",\"2005\",\"2006\",\"2007\",\"2008\",\"2009\",\"2010\",\"2011\",\"2012\",\"2013\",\"2014\",\"2015\",\"2016\",\"2020\",\"N/A\"],\"xaxis\":\"x\",\"y\":[0.45,0.03,0.03,1.14,2.14,2.14,0.19,2.73,4.18,11.330000000000004,9.65,7.109999999999999,11.44,3.379999999999999,19.54,10.81,21.21,10.849999999999996,49.27000000000004,21.77000000000001,48.97000000000001,46.759999999999984,33.710000000000015,22.150000000000013,15.279999999999998,13.38,8.669999999999995,5.55,5.62,0.3900000000000001,0.29,2.0400000000000005],\"yaxis\":\"y\",\"type\":\"scatter\"},{\"hovertemplate\":\"Genre=Adventure<br>Year=%{x}<br>Global_Sales=%{y}<extra></extra>\",\"legendgroup\":\"Adventure\",\"line\":{\"color\":\"#FECB52\",\"dash\":\"solid\"},\"marker\":{\"symbol\":\"circle\"},\"mode\":\"lines\",\"name\":\"Adventure\",\"orientation\":\"v\",\"showlegend\":true,\"x\":[\"1983\",\"1987\",\"1991\",\"1992\",\"1993\",\"1994\",\"1995\",\"1996\",\"1997\",\"1998\",\"1999\",\"2000\",\"2001\",\"2002\",\"2003\",\"2004\",\"2005\",\"2006\",\"2007\",\"2008\",\"2009\",\"2010\",\"2011\",\"2012\",\"2013\",\"2014\",\"2015\",\"2016\",\"N/A\"],\"xaxis\":\"x\",\"y\":[0.4,4.38,2.24,12.239999999999998,0.07,3.74,0.7200000000000002,4.1899999999999995,4.96,9.049999999999995,7.599999999999999,2.98,9.12,11.050000000000002,2.1399999999999997,8.7,8.530000000000001,11.469999999999986,24.470000000000027,25.020000000000028,20.68000000000003,16.570000000000004,15.979999999999977,5.989999999999999,6.609999999999992,6.0599999999999925,8.029999999999996,1.8100000000000007,4.239999999999999],\"yaxis\":\"y\",\"type\":\"scatter\"},{\"hovertemplate\":\"Genre=Role-Playing<br>Year=%{x}<br>Global_Sales=%{y}<extra></extra>\",\"legendgroup\":\"Role-Playing\",\"line\":{\"color\":\"#636efa\",\"dash\":\"solid\"},\"marker\":{\"symbol\":\"circle\"},\"mode\":\"lines\",\"name\":\"Role-Playing\",\"orientation\":\"v\",\"showlegend\":true,\"x\":[\"1986\",\"1987\",\"1988\",\"1989\",\"1990\",\"1991\",\"1992\",\"1993\",\"1994\",\"1995\",\"1996\",\"1997\",\"1998\",\"1999\",\"2000\",\"2001\",\"2002\",\"2003\",\"2004\",\"2005\",\"2006\",\"2007\",\"2008\",\"2009\",\"2010\",\"2011\",\"2012\",\"2013\",\"2014\",\"2015\",\"2016\",\"2017\",\"N/A\"],\"xaxis\":\"x\",\"y\":[2.52,4.65,5.88,2.2,4.52,3.25,6.86,5.590000000000001,7.110000000000001,14.260000000000002,43.96,21.79,28.090000000000007,49.089999999999996,29.029999999999998,22.06000000000001,45.12999999999999,30.279999999999983,53.949999999999996,28.549999999999983,57.730000000000004,43.89000000000003,59.83000000000005,47.900000000000006,70.51999999999997,53.37000000000002,47.81000000000002,44.920000000000016,45.859999999999985,36.439999999999976,6.759999999999995,0.04,3.5299999999999985],\"yaxis\":\"y\",\"type\":\"scatter\"},{\"hovertemplate\":\"Genre=Strategy<br>Year=%{x}<br>Global_Sales=%{y}<extra></extra>\",\"legendgroup\":\"Strategy\",\"line\":{\"color\":\"#EF553B\",\"dash\":\"solid\"},\"marker\":{\"symbol\":\"circle\"},\"mode\":\"lines\",\"name\":\"Strategy\",\"orientation\":\"v\",\"showlegend\":true,\"x\":[\"1991\",\"1992\",\"1993\",\"1994\",\"1995\",\"1996\",\"1997\",\"1998\",\"1999\",\"2000\",\"2001\",\"2002\",\"2003\",\"2004\",\"2005\",\"2006\",\"2007\",\"2008\",\"2009\",\"2010\",\"2011\",\"2012\",\"2013\",\"2014\",\"2015\",\"2016\",\"N/A\"],\"xaxis\":\"x\",\"y\":[0.94,0.36,0.81,3.5600000000000005,6.510000000000001,5.610000000000001,7.710000000000002,13.47,18.460000000000008,8.500000000000002,7.55,5.559999999999998,7.990000000000002,7.1899999999999995,5.37,4.269999999999995,9.419999999999991,11.689999999999996,12.559999999999992,13.869999999999989,9.059999999999993,3.329999999999999,6.330000000000001,0.9900000000000002,1.8200000000000003,0.5000000000000001,1.6900000000000002],\"yaxis\":\"y\",\"type\":\"scatter\"}],                        {\"template\":{\"data\":{\"barpolar\":[{\"marker\":{\"line\":{\"color\":\"white\",\"width\":0.5},\"pattern\":{\"fillmode\":\"overlay\",\"size\":10,\"solidity\":0.2}},\"type\":\"barpolar\"}],\"bar\":[{\"error_x\":{\"color\":\"#2a3f5f\"},\"error_y\":{\"color\":\"#2a3f5f\"},\"marker\":{\"line\":{\"color\":\"white\",\"width\":0.5},\"pattern\":{\"fillmode\":\"overlay\",\"size\":10,\"solidity\":0.2}},\"type\":\"bar\"}],\"carpet\":[{\"aaxis\":{\"endlinecolor\":\"#2a3f5f\",\"gridcolor\":\"#C8D4E3\",\"linecolor\":\"#C8D4E3\",\"minorgridcolor\":\"#C8D4E3\",\"startlinecolor\":\"#2a3f5f\"},\"baxis\":{\"endlinecolor\":\"#2a3f5f\",\"gridcolor\":\"#C8D4E3\",\"linecolor\":\"#C8D4E3\",\"minorgridcolor\":\"#C8D4E3\",\"startlinecolor\":\"#2a3f5f\"},\"type\":\"carpet\"}],\"choropleth\":[{\"colorbar\":{\"outlinewidth\":0,\"ticks\":\"\"},\"type\":\"choropleth\"}],\"contourcarpet\":[{\"colorbar\":{\"outlinewidth\":0,\"ticks\":\"\"},\"type\":\"contourcarpet\"}],\"contour\":[{\"colorbar\":{\"outlinewidth\":0,\"ticks\":\"\"},\"colorscale\":[[0.0,\"#0d0887\"],[0.1111111111111111,\"#46039f\"],[0.2222222222222222,\"#7201a8\"],[0.3333333333333333,\"#9c179e\"],[0.4444444444444444,\"#bd3786\"],[0.5555555555555556,\"#d8576b\"],[0.6666666666666666,\"#ed7953\"],[0.7777777777777778,\"#fb9f3a\"],[0.8888888888888888,\"#fdca26\"],[1.0,\"#f0f921\"]],\"type\":\"contour\"}],\"heatmapgl\":[{\"colorbar\":{\"outlinewidth\":0,\"ticks\":\"\"},\"colorscale\":[[0.0,\"#0d0887\"],[0.1111111111111111,\"#46039f\"],[0.2222222222222222,\"#7201a8\"],[0.3333333333333333,\"#9c179e\"],[0.4444444444444444,\"#bd3786\"],[0.5555555555555556,\"#d8576b\"],[0.6666666666666666,\"#ed7953\"],[0.7777777777777778,\"#fb9f3a\"],[0.8888888888888888,\"#fdca26\"],[1.0,\"#f0f921\"]],\"type\":\"heatmapgl\"}],\"heatmap\":[{\"colorbar\":{\"outlinewidth\":0,\"ticks\":\"\"},\"colorscale\":[[0.0,\"#0d0887\"],[0.1111111111111111,\"#46039f\"],[0.2222222222222222,\"#7201a8\"],[0.3333333333333333,\"#9c179e\"],[0.4444444444444444,\"#bd3786\"],[0.5555555555555556,\"#d8576b\"],[0.6666666666666666,\"#ed7953\"],[0.7777777777777778,\"#fb9f3a\"],[0.8888888888888888,\"#fdca26\"],[1.0,\"#f0f921\"]],\"type\":\"heatmap\"}],\"histogram2dcontour\":[{\"colorbar\":{\"outlinewidth\":0,\"ticks\":\"\"},\"colorscale\":[[0.0,\"#0d0887\"],[0.1111111111111111,\"#46039f\"],[0.2222222222222222,\"#7201a8\"],[0.3333333333333333,\"#9c179e\"],[0.4444444444444444,\"#bd3786\"],[0.5555555555555556,\"#d8576b\"],[0.6666666666666666,\"#ed7953\"],[0.7777777777777778,\"#fb9f3a\"],[0.8888888888888888,\"#fdca26\"],[1.0,\"#f0f921\"]],\"type\":\"histogram2dcontour\"}],\"histogram2d\":[{\"colorbar\":{\"outlinewidth\":0,\"ticks\":\"\"},\"colorscale\":[[0.0,\"#0d0887\"],[0.1111111111111111,\"#46039f\"],[0.2222222222222222,\"#7201a8\"],[0.3333333333333333,\"#9c179e\"],[0.4444444444444444,\"#bd3786\"],[0.5555555555555556,\"#d8576b\"],[0.6666666666666666,\"#ed7953\"],[0.7777777777777778,\"#fb9f3a\"],[0.8888888888888888,\"#fdca26\"],[1.0,\"#f0f921\"]],\"type\":\"histogram2d\"}],\"histogram\":[{\"marker\":{\"pattern\":{\"fillmode\":\"overlay\",\"size\":10,\"solidity\":0.2}},\"type\":\"histogram\"}],\"mesh3d\":[{\"colorbar\":{\"outlinewidth\":0,\"ticks\":\"\"},\"type\":\"mesh3d\"}],\"parcoords\":[{\"line\":{\"colorbar\":{\"outlinewidth\":0,\"ticks\":\"\"}},\"type\":\"parcoords\"}],\"pie\":[{\"automargin\":true,\"type\":\"pie\"}],\"scatter3d\":[{\"line\":{\"colorbar\":{\"outlinewidth\":0,\"ticks\":\"\"}},\"marker\":{\"colorbar\":{\"outlinewidth\":0,\"ticks\":\"\"}},\"type\":\"scatter3d\"}],\"scattercarpet\":[{\"marker\":{\"colorbar\":{\"outlinewidth\":0,\"ticks\":\"\"}},\"type\":\"scattercarpet\"}],\"scattergeo\":[{\"marker\":{\"colorbar\":{\"outlinewidth\":0,\"ticks\":\"\"}},\"type\":\"scattergeo\"}],\"scattergl\":[{\"marker\":{\"colorbar\":{\"outlinewidth\":0,\"ticks\":\"\"}},\"type\":\"scattergl\"}],\"scattermapbox\":[{\"marker\":{\"colorbar\":{\"outlinewidth\":0,\"ticks\":\"\"}},\"type\":\"scattermapbox\"}],\"scatterpolargl\":[{\"marker\":{\"colorbar\":{\"outlinewidth\":0,\"ticks\":\"\"}},\"type\":\"scatterpolargl\"}],\"scatterpolar\":[{\"marker\":{\"colorbar\":{\"outlinewidth\":0,\"ticks\":\"\"}},\"type\":\"scatterpolar\"}],\"scatter\":[{\"fillpattern\":{\"fillmode\":\"overlay\",\"size\":10,\"solidity\":0.2},\"type\":\"scatter\"}],\"scatterternary\":[{\"marker\":{\"colorbar\":{\"outlinewidth\":0,\"ticks\":\"\"}},\"type\":\"scatterternary\"}],\"surface\":[{\"colorbar\":{\"outlinewidth\":0,\"ticks\":\"\"},\"colorscale\":[[0.0,\"#0d0887\"],[0.1111111111111111,\"#46039f\"],[0.2222222222222222,\"#7201a8\"],[0.3333333333333333,\"#9c179e\"],[0.4444444444444444,\"#bd3786\"],[0.5555555555555556,\"#d8576b\"],[0.6666666666666666,\"#ed7953\"],[0.7777777777777778,\"#fb9f3a\"],[0.8888888888888888,\"#fdca26\"],[1.0,\"#f0f921\"]],\"type\":\"surface\"}],\"table\":[{\"cells\":{\"fill\":{\"color\":\"#EBF0F8\"},\"line\":{\"color\":\"white\"}},\"header\":{\"fill\":{\"color\":\"#C8D4E3\"},\"line\":{\"color\":\"white\"}},\"type\":\"table\"}]},\"layout\":{\"annotationdefaults\":{\"arrowcolor\":\"#2a3f5f\",\"arrowhead\":0,\"arrowwidth\":1},\"autotypenumbers\":\"strict\",\"coloraxis\":{\"colorbar\":{\"outlinewidth\":0,\"ticks\":\"\"}},\"colorscale\":{\"diverging\":[[0,\"#8e0152\"],[0.1,\"#c51b7d\"],[0.2,\"#de77ae\"],[0.3,\"#f1b6da\"],[0.4,\"#fde0ef\"],[0.5,\"#f7f7f7\"],[0.6,\"#e6f5d0\"],[0.7,\"#b8e186\"],[0.8,\"#7fbc41\"],[0.9,\"#4d9221\"],[1,\"#276419\"]],\"sequential\":[[0.0,\"#0d0887\"],[0.1111111111111111,\"#46039f\"],[0.2222222222222222,\"#7201a8\"],[0.3333333333333333,\"#9c179e\"],[0.4444444444444444,\"#bd3786\"],[0.5555555555555556,\"#d8576b\"],[0.6666666666666666,\"#ed7953\"],[0.7777777777777778,\"#fb9f3a\"],[0.8888888888888888,\"#fdca26\"],[1.0,\"#f0f921\"]],\"sequentialminus\":[[0.0,\"#0d0887\"],[0.1111111111111111,\"#46039f\"],[0.2222222222222222,\"#7201a8\"],[0.3333333333333333,\"#9c179e\"],[0.4444444444444444,\"#bd3786\"],[0.5555555555555556,\"#d8576b\"],[0.6666666666666666,\"#ed7953\"],[0.7777777777777778,\"#fb9f3a\"],[0.8888888888888888,\"#fdca26\"],[1.0,\"#f0f921\"]]},\"colorway\":[\"#636efa\",\"#EF553B\",\"#00cc96\",\"#ab63fa\",\"#FFA15A\",\"#19d3f3\",\"#FF6692\",\"#B6E880\",\"#FF97FF\",\"#FECB52\"],\"font\":{\"color\":\"#2a3f5f\"},\"geo\":{\"bgcolor\":\"white\",\"lakecolor\":\"white\",\"landcolor\":\"white\",\"showlakes\":true,\"showland\":true,\"subunitcolor\":\"#C8D4E3\"},\"hoverlabel\":{\"align\":\"left\"},\"hovermode\":\"closest\",\"mapbox\":{\"style\":\"light\"},\"paper_bgcolor\":\"white\",\"plot_bgcolor\":\"white\",\"polar\":{\"angularaxis\":{\"gridcolor\":\"#EBF0F8\",\"linecolor\":\"#EBF0F8\",\"ticks\":\"\"},\"bgcolor\":\"white\",\"radialaxis\":{\"gridcolor\":\"#EBF0F8\",\"linecolor\":\"#EBF0F8\",\"ticks\":\"\"}},\"scene\":{\"xaxis\":{\"backgroundcolor\":\"white\",\"gridcolor\":\"#DFE8F3\",\"gridwidth\":2,\"linecolor\":\"#EBF0F8\",\"showbackground\":true,\"ticks\":\"\",\"zerolinecolor\":\"#EBF0F8\"},\"yaxis\":{\"backgroundcolor\":\"white\",\"gridcolor\":\"#DFE8F3\",\"gridwidth\":2,\"linecolor\":\"#EBF0F8\",\"showbackground\":true,\"ticks\":\"\",\"zerolinecolor\":\"#EBF0F8\"},\"zaxis\":{\"backgroundcolor\":\"white\",\"gridcolor\":\"#DFE8F3\",\"gridwidth\":2,\"linecolor\":\"#EBF0F8\",\"showbackground\":true,\"ticks\":\"\",\"zerolinecolor\":\"#EBF0F8\"}},\"shapedefaults\":{\"line\":{\"color\":\"#2a3f5f\"}},\"ternary\":{\"aaxis\":{\"gridcolor\":\"#DFE8F3\",\"linecolor\":\"#A2B1C6\",\"ticks\":\"\"},\"baxis\":{\"gridcolor\":\"#DFE8F3\",\"linecolor\":\"#A2B1C6\",\"ticks\":\"\"},\"bgcolor\":\"white\",\"caxis\":{\"gridcolor\":\"#DFE8F3\",\"linecolor\":\"#A2B1C6\",\"ticks\":\"\"}},\"title\":{\"x\":0.05},\"xaxis\":{\"automargin\":true,\"gridcolor\":\"#EBF0F8\",\"linecolor\":\"#EBF0F8\",\"ticks\":\"\",\"title\":{\"standoff\":15},\"zerolinecolor\":\"#EBF0F8\",\"zerolinewidth\":2},\"yaxis\":{\"automargin\":true,\"gridcolor\":\"#EBF0F8\",\"linecolor\":\"#EBF0F8\",\"ticks\":\"\",\"title\":{\"standoff\":15},\"zerolinecolor\":\"#EBF0F8\",\"zerolinewidth\":2}}},\"xaxis\":{\"anchor\":\"y\",\"domain\":[0.0,1.0],\"title\":{\"text\":\"Year\"}},\"yaxis\":{\"anchor\":\"x\",\"domain\":[0.0,1.0],\"title\":{\"text\":\"Global_Sales\"}},\"legend\":{\"title\":{\"text\":\"Genre\"},\"tracegroupgap\":0},\"margin\":{\"t\":60},\"title\":{\"text\":\"Genre global sales through time\"}},                        {\"responsive\": true}                    ).then(function(){\n",
              "                            \n",
              "var gd = document.getElementById('e5920961-9348-4e34-85aa-06c16df56669');\n",
              "var x = new MutationObserver(function (mutations, observer) {{\n",
              "        var display = window.getComputedStyle(gd).display;\n",
              "        if (!display || display === 'none') {{\n",
              "            console.log([gd, 'removed!']);\n",
              "            Plotly.purge(gd);\n",
              "            observer.disconnect();\n",
              "        }}\n",
              "}});\n",
              "\n",
              "// Listen for the removal of the full notebook cells\n",
              "var notebookContainer = gd.closest('#notebook-container');\n",
              "if (notebookContainer) {{\n",
              "    x.observe(notebookContainer, {childList: true});\n",
              "}}\n",
              "\n",
              "// Listen for the clearing of the current output cell\n",
              "var outputEl = gd.closest('.output');\n",
              "if (outputEl) {{\n",
              "    x.observe(outputEl, {childList: true});\n",
              "}}\n",
              "\n",
              "                        })                };                            </script>        </div>\n",
              "</body>\n",
              "</html>"
            ]
          },
          "metadata": {}
        }
      ],
      "source": [
        "\n",
        "(\n",
        "  df\n",
        " .pandas_api()\n",
        " .groupby(['Year','Genre'])[['Global_Sales']].sum()\n",
        " .sort_index()\n",
        " .reset_index()\n",
        " .plot.line(x='Year', y='Global_Sales', color='Genre')\n",
        " .update_layout(title='Genre global sales through time', template='plotly_white')\n",
        " )\n"
      ]
    },
    {
      "cell_type": "markdown",
      "metadata": {
        "id": "913L3sI7esdU"
      },
      "source": [
        "**Resposta:**\n",
        "- Entre 1980 e 1990 sobressaíram as vendas de plataforma, tiro (shooter) e puzzle.\n",
        "- Entre 2000 e 2015 teve vendas elevadas de jogos de ação e esporte."
      ]
    },
    {
      "cell_type": "markdown",
      "metadata": {
        "id": "Ia7efqBLDCup"
      },
      "source": [
        "## Questão 7\n",
        "\n",
        "Registre a tabela usando `createOrReplaceTempView` e faça uso da linguagem SQL criar uma tabela que:\n",
        "- Considere apenas os anos da década de 90 e \n",
        "- Agrupe por ano para responder quantos % cada região teve do total de vendas (vendas globais).\n",
        "\n",
        "Salve o resultado desta query em uma variável chamada `df_questao7`.\n",
        "\n",
        "Após isso, execute o seguinte comando `df_questao7.pandas_api().set_index('YEAR').style.background_gradient(cmap='Oranges')` e responda:\n",
        "- Qual/quais regiões tiveram, relativamente (comparado às vendas globais), mais vendas no fim da década de noventa do que no início?\n",
        "\n",
        "\n",
        "\n",
        "\n",
        "\n",
        "\n"
      ]
    },
    {
      "cell_type": "code",
      "execution_count": 71,
      "metadata": {
        "id": "rLZUoc2GRzx5",
        "colab": {
          "base_uri": "https://localhost:8080/",
          "height": 395
        },
        "outputId": "859187ae-2ff4-4d03-9cc2-aeb418d67c0c"
      },
      "outputs": [
        {
          "output_type": "execute_result",
          "data": {
            "text/plain": [
              "<pandas.io.formats.style.Styler at 0x7f006cc5b940>"
            ],
            "text/html": [
              "<style type=\"text/css\">\n",
              "#T_a5a15_row0_col0, #T_a5a15_row3_col2, #T_a5a15_row7_col3, #T_a5a15_row8_col1 {\n",
              "  background-color: #7f2704;\n",
              "  color: #f1f1f1;\n",
              "}\n",
              "#T_a5a15_row0_col1 {\n",
              "  background-color: #fdb97d;\n",
              "  color: #000000;\n",
              "}\n",
              "#T_a5a15_row0_col2 {\n",
              "  background-color: #fdc38d;\n",
              "  color: #000000;\n",
              "}\n",
              "#T_a5a15_row0_col3 {\n",
              "  background-color: #fdb678;\n",
              "  color: #000000;\n",
              "}\n",
              "#T_a5a15_row1_col0 {\n",
              "  background-color: #fd9040;\n",
              "  color: #000000;\n",
              "}\n",
              "#T_a5a15_row1_col1, #T_a5a15_row7_col2 {\n",
              "  background-color: #fee5cb;\n",
              "  color: #000000;\n",
              "}\n",
              "#T_a5a15_row1_col2, #T_a5a15_row6_col3 {\n",
              "  background-color: #db4a02;\n",
              "  color: #f1f1f1;\n",
              "}\n",
              "#T_a5a15_row1_col3 {\n",
              "  background-color: #fee4ca;\n",
              "  color: #000000;\n",
              "}\n",
              "#T_a5a15_row2_col0 {\n",
              "  background-color: #e35608;\n",
              "  color: #f1f1f1;\n",
              "}\n",
              "#T_a5a15_row2_col1 {\n",
              "  background-color: #fdba7f;\n",
              "  color: #000000;\n",
              "}\n",
              "#T_a5a15_row2_col2 {\n",
              "  background-color: #fb8836;\n",
              "  color: #f1f1f1;\n",
              "}\n",
              "#T_a5a15_row2_col3 {\n",
              "  background-color: #feebd7;\n",
              "  color: #000000;\n",
              "}\n",
              "#T_a5a15_row3_col0 {\n",
              "  background-color: #fdd9b4;\n",
              "  color: #000000;\n",
              "}\n",
              "#T_a5a15_row3_col1, #T_a5a15_row3_col3, #T_a5a15_row5_col0, #T_a5a15_row8_col2 {\n",
              "  background-color: #fff5eb;\n",
              "  color: #000000;\n",
              "}\n",
              "#T_a5a15_row4_col0 {\n",
              "  background-color: #fdbf86;\n",
              "  color: #000000;\n",
              "}\n",
              "#T_a5a15_row4_col1 {\n",
              "  background-color: #f9802d;\n",
              "  color: #f1f1f1;\n",
              "}\n",
              "#T_a5a15_row4_col2, #T_a5a15_row6_col0 {\n",
              "  background-color: #eb600e;\n",
              "  color: #f1f1f1;\n",
              "}\n",
              "#T_a5a15_row4_col3 {\n",
              "  background-color: #fdbd83;\n",
              "  color: #000000;\n",
              "}\n",
              "#T_a5a15_row5_col1 {\n",
              "  background-color: #fda159;\n",
              "  color: #000000;\n",
              "}\n",
              "#T_a5a15_row5_col2 {\n",
              "  background-color: #9a3103;\n",
              "  color: #f1f1f1;\n",
              "}\n",
              "#T_a5a15_row5_col3 {\n",
              "  background-color: #fda55f;\n",
              "  color: #000000;\n",
              "}\n",
              "#T_a5a15_row6_col1 {\n",
              "  background-color: #ae3903;\n",
              "  color: #f1f1f1;\n",
              "}\n",
              "#T_a5a15_row6_col2 {\n",
              "  background-color: #fdcd9c;\n",
              "  color: #000000;\n",
              "}\n",
              "#T_a5a15_row7_col0 {\n",
              "  background-color: #c03f02;\n",
              "  color: #f1f1f1;\n",
              "}\n",
              "#T_a5a15_row7_col1 {\n",
              "  background-color: #a63603;\n",
              "  color: #f1f1f1;\n",
              "}\n",
              "#T_a5a15_row8_col0 {\n",
              "  background-color: #932f03;\n",
              "  color: #f1f1f1;\n",
              "}\n",
              "#T_a5a15_row8_col3 {\n",
              "  background-color: #9b3203;\n",
              "  color: #f1f1f1;\n",
              "}\n",
              "#T_a5a15_row9_col0 {\n",
              "  background-color: #912e04;\n",
              "  color: #f1f1f1;\n",
              "}\n",
              "#T_a5a15_row9_col1 {\n",
              "  background-color: #952f03;\n",
              "  color: #f1f1f1;\n",
              "}\n",
              "#T_a5a15_row9_col2 {\n",
              "  background-color: #fff1e3;\n",
              "  color: #000000;\n",
              "}\n",
              "#T_a5a15_row9_col3 {\n",
              "  background-color: #c84202;\n",
              "  color: #f1f1f1;\n",
              "}\n",
              "</style>\n",
              "<table id=\"T_a5a15\" class=\"dataframe\">\n",
              "  <thead>\n",
              "    <tr>\n",
              "      <th class=\"blank level0\" >&nbsp;</th>\n",
              "      <th id=\"T_a5a15_level0_col0\" class=\"col_heading level0 col0\" >Percent_NA_Sales</th>\n",
              "      <th id=\"T_a5a15_level0_col1\" class=\"col_heading level0 col1\" >Percent_EU_Sales</th>\n",
              "      <th id=\"T_a5a15_level0_col2\" class=\"col_heading level0 col2\" >Percent_JP_Sales</th>\n",
              "      <th id=\"T_a5a15_level0_col3\" class=\"col_heading level0 col3\" >Percent_Other_Sales</th>\n",
              "    </tr>\n",
              "    <tr>\n",
              "      <th class=\"index_name level0\" >Year</th>\n",
              "      <th class=\"blank col0\" >&nbsp;</th>\n",
              "      <th class=\"blank col1\" >&nbsp;</th>\n",
              "      <th class=\"blank col2\" >&nbsp;</th>\n",
              "      <th class=\"blank col3\" >&nbsp;</th>\n",
              "    </tr>\n",
              "  </thead>\n",
              "  <tbody>\n",
              "    <tr>\n",
              "      <th id=\"T_a5a15_level0_row0\" class=\"row_heading level0 row0\" >1990</th>\n",
              "      <td id=\"T_a5a15_row0_col0\" class=\"data row0 col0\" >51.548897</td>\n",
              "      <td id=\"T_a5a15_row0_col1\" class=\"data row0 col1\" >15.448471</td>\n",
              "      <td id=\"T_a5a15_row0_col2\" class=\"data row0 col2\" >30.127556</td>\n",
              "      <td id=\"T_a5a15_row0_col3\" class=\"data row0 col3\" >2.834582</td>\n",
              "    </tr>\n",
              "    <tr>\n",
              "      <th id=\"T_a5a15_level0_row1\" class=\"row_heading level0 row1\" >1991</th>\n",
              "      <td id=\"T_a5a15_row1_col0\" class=\"data row1 col0\" >39.590444</td>\n",
              "      <td id=\"T_a5a15_row1_col1\" class=\"data row1 col1\" >12.255662</td>\n",
              "      <td id=\"T_a5a15_row1_col2\" class=\"data row1 col2\" >45.857896</td>\n",
              "      <td id=\"T_a5a15_row1_col3\" class=\"data row1 col3\" >2.295998</td>\n",
              "    </tr>\n",
              "    <tr>\n",
              "      <th id=\"T_a5a15_level0_row2\" class=\"row_heading level0 row2\" >1992</th>\n",
              "      <td id=\"T_a5a15_row2_col0\" class=\"data row2 col0\" >44.472164</td>\n",
              "      <td id=\"T_a5a15_row2_col1\" class=\"data row2 col1\" >15.375525</td>\n",
              "      <td id=\"T_a5a15_row2_col2\" class=\"data row2 col2\" >37.959559</td>\n",
              "      <td id=\"T_a5a15_row2_col3\" class=\"data row2 col3\" >2.166492</td>\n",
              "    </tr>\n",
              "    <tr>\n",
              "      <th id=\"T_a5a15_level0_row3\" class=\"row_heading level0 row3\" >1993</th>\n",
              "      <td id=\"T_a5a15_row3_col0\" class=\"data row3 col0\" >32.883863</td>\n",
              "      <td id=\"T_a5a15_row3_col1\" class=\"data row3 col1\" >10.113093</td>\n",
              "      <td id=\"T_a5a15_row3_col2\" class=\"data row3 col2\" >55.089169</td>\n",
              "      <td id=\"T_a5a15_row3_col3\" class=\"data row3 col3\" >1.935624</td>\n",
              "    </tr>\n",
              "    <tr>\n",
              "      <th id=\"T_a5a15_level0_row4\" class=\"row_heading level0 row4\" >1994</th>\n",
              "      <td id=\"T_a5a15_row4_col0\" class=\"data row4 col0\" >35.556398</td>\n",
              "      <td id=\"T_a5a15_row4_col1\" class=\"data row4 col1\" >18.794998</td>\n",
              "      <td id=\"T_a5a15_row4_col2\" class=\"data row4 col2\" >42.932929</td>\n",
              "      <td id=\"T_a5a15_row4_col3\" class=\"data row4 col3\" >2.778830</td>\n",
              "    </tr>\n",
              "    <tr>\n",
              "      <th id=\"T_a5a15_level0_row5\" class=\"row_heading level0 row5\" >1995</th>\n",
              "      <td id=\"T_a5a15_row5_col0\" class=\"data row5 col0\" >28.169334</td>\n",
              "      <td id=\"T_a5a15_row5_col1\" class=\"data row5 col1\" >16.910680</td>\n",
              "      <td id=\"T_a5a15_row5_col2\" class=\"data row5 col2\" >51.923732</td>\n",
              "      <td id=\"T_a5a15_row5_col3\" class=\"data row5 col3\" >2.996255</td>\n",
              "    </tr>\n",
              "    <tr>\n",
              "      <th id=\"T_a5a15_level0_row6\" class=\"row_heading level0 row6\" >1996</th>\n",
              "      <td id=\"T_a5a15_row6_col0\" class=\"data row6 col0\" >43.565152</td>\n",
              "      <td id=\"T_a5a15_row6_col1\" class=\"data row6 col1\" >23.730856</td>\n",
              "      <td id=\"T_a5a15_row6_col2\" class=\"data row6 col2\" >28.842581</td>\n",
              "      <td id=\"T_a5a15_row6_col3\" class=\"data row6 col3\" >3.861411</td>\n",
              "    </tr>\n",
              "    <tr>\n",
              "      <th id=\"T_a5a15_level0_row7\" class=\"row_heading level0 row7\" >1997</th>\n",
              "      <td id=\"T_a5a15_row7_col0\" class=\"data row7 col0\" >47.143994</td>\n",
              "      <td id=\"T_a5a15_row7_col1\" class=\"data row7 col1\" >24.042193</td>\n",
              "      <td id=\"T_a5a15_row7_col2\" class=\"data row7 col2\" >24.315852</td>\n",
              "      <td id=\"T_a5a15_row7_col3\" class=\"data row7 col3\" >4.542741</td>\n",
              "    </tr>\n",
              "    <tr>\n",
              "      <th id=\"T_a5a15_level0_row8\" class=\"row_heading level0 row8\" >1998</th>\n",
              "      <td id=\"T_a5a15_row8_col0\" class=\"data row8 col0\" >50.048739</td>\n",
              "      <td id=\"T_a5a15_row8_col1\" class=\"data row8 col1\" >26.084922</td>\n",
              "      <td id=\"T_a5a15_row8_col2\" class=\"data row8 col2\" >19.511054</td>\n",
              "      <td id=\"T_a5a15_row8_col3\" class=\"data row8 col3\" >4.300698</td>\n",
              "    </tr>\n",
              "    <tr>\n",
              "      <th id=\"T_a5a15_level0_row9\" class=\"row_heading level0 row9\" >1999</th>\n",
              "      <td id=\"T_a5a15_row9_col0\" class=\"data row9 col0\" >50.169141</td>\n",
              "      <td id=\"T_a5a15_row9_col1\" class=\"data row9 col1\" >24.941298</td>\n",
              "      <td id=\"T_a5a15_row9_col2\" class=\"data row9 col2\" >20.830183</td>\n",
              "      <td id=\"T_a5a15_row9_col3\" class=\"data row9 col3\" >3.999682</td>\n",
              "    </tr>\n",
              "  </tbody>\n",
              "</table>\n"
            ]
          },
          "metadata": {},
          "execution_count": 71
        }
      ],
      "source": [
        "df.createOrReplaceTempView(\"vendas\")\n",
        "\n",
        "# Executando query SQL para calcular as vendas por região na década de 90\n",
        "query = \"\"\"\n",
        "    SELECT\n",
        "        Year,\n",
        "        (SUM(NA_Sales) / SUM(Global_Sales)) * 100 AS Percent_NA_Sales,\n",
        "        (SUM(EU_Sales) / SUM(Global_Sales)) * 100 AS Percent_EU_Sales,\n",
        "        (SUM(JP_Sales) / SUM(Global_Sales)) * 100 AS Percent_JP_Sales,\n",
        "        (SUM(Other_Sales) / SUM(Global_Sales)) * 100 AS Percent_Other_Sales\n",
        "    FROM\n",
        "        vendas\n",
        "    WHERE\n",
        "        Year >= 1990 AND Year <= 1999\n",
        "    GROUP BY\n",
        "        Year\n",
        "    ORDER BY\n",
        "        Year\n",
        "\"\"\"\n",
        "\n",
        "# Salvando o resultado em uma variável\n",
        "df_questao7 = spark.sql(query)\n",
        "\n",
        "# Utilizando API do Pandas para formatar o resultado\n",
        "df_questao7_pandas = df_questao7.toPandas().set_index('Year').style.background_gradient(cmap='Oranges')\n",
        "\n",
        "df_questao7_pandas\n"
      ]
    },
    {
      "cell_type": "markdown",
      "metadata": {
        "id": "sGaTtlhATKJb"
      },
      "source": [
        "## Questão 8\n",
        "\n",
        "Calcule quantas vezes cada região teve vendas superiores às demais."
      ]
    },
    {
      "cell_type": "code",
      "execution_count": 74,
      "metadata": {
        "id": "aAlq0SyER0uW",
        "colab": {
          "base_uri": "https://localhost:8080/"
        },
        "outputId": "249b7dab-323f-4c59-d668-b12488498e47"
      },
      "outputs": [
        {
          "output_type": "stream",
          "name": "stdout",
          "text": [
            "+--------------------+-----+\n",
            "|greatest_sale_region|count|\n",
            "+--------------------+-----+\n",
            "|            EU_Sales| 2380|\n",
            "|            JP_Sales| 4029|\n",
            "|            NA_Sales|10113|\n",
            "|         Other_Sales|   76|\n",
            "+--------------------+-----+\n",
            "\n"
          ]
        }
      ],
      "source": [
        "regions = ['NA_Sales', 'EU_Sales', 'JP_Sales', 'Other_Sales']\n",
        "\n",
        "(\n",
        "  df\n",
        " .withColumn('max_sale', F.greatest(*regions))\n",
        " .withColumn(\n",
        "     'greatest_sale_region',\n",
        "     F.when(F.col('NA_Sales')==F.col('max_sale'), 'NA_Sales')\n",
        "     .when(F.col('EU_Sales')==F.col('max_sale'), 'EU_Sales')\n",
        "     .when(F.col('JP_Sales')==F.col('max_sale'), 'JP_Sales')\n",
        "     .otherwise('Other_Sales')\n",
        " )\n",
        " .groupby('greatest_sale_region')\n",
        " .count()\n",
        " .show()\n",
        ")"
      ]
    },
    {
      "cell_type": "markdown",
      "metadata": {
        "id": "LxTa6E2WNOGR"
      },
      "source": [
        "## Questão 9\n",
        "\n",
        "Construe uma tabela que mostre a diferença do total de vendas em um década com a década anterior e responda:\n",
        "- Qual década apresentou a **menor diferença** comparada à década anterior?"
      ]
    },
    {
      "cell_type": "code",
      "execution_count": 77,
      "metadata": {
        "id": "FpkdFnwaR1tI",
        "colab": {
          "base_uri": "https://localhost:8080/"
        },
        "outputId": "f170d6cd-58fa-40cd-9761-b12c8ebc893a"
      },
      "outputs": [
        {
          "output_type": "stream",
          "name": "stdout",
          "text": [
            "+------+-------------------+---------------------+-----------------------+\n",
            "|Decade|  global_sales_mean|global_sales_mean_lag|Delta_global_sales_mean|\n",
            "+------+-------------------+---------------------+-----------------------+\n",
            "|  null|0.36929889298892965|                 null|                   null|\n",
            "|  1980|  1.836975609756096|  0.36929889298892965|     1.4676767167671665|\n",
            "|  1990| 0.7229564725833695|    1.836975609756096|    -1.1140191371727266|\n",
            "|  2000| 0.5043462206777033|   0.7229564725833695|    -0.2186102519056662|\n",
            "|  2010| 0.4900000000000273|   0.5043462206777033|   -0.01434622067767...|\n",
            "|  2020|               0.29|   0.4900000000000273|   -0.20000000000002732|\n",
            "+------+-------------------+---------------------+-----------------------+\n",
            "\n"
          ]
        }
      ],
      "source": [
        "w = Window.orderBy('Decade')\n",
        "\n",
        "(\n",
        "  df\n",
        " .where('Year IS NOT NULL')\n",
        " .withColumn('Decade', F.floor(F.col('Year')/10)*10) \n",
        " .groupby('Decade')\n",
        " .agg(F.mean('Global_Sales').alias('global_sales_mean'))\n",
        " .withColumn('global_sales_mean_lag', F.lag('global_sales_mean').over(w))\n",
        " .withColumn('Delta_global_sales_mean', F.col('global_sales_mean') - F.col('global_sales_mean_lag'))\n",
        " .orderBy('Decade')\n",
        " .show()\n",
        ")"
      ]
    },
    {
      "cell_type": "markdown",
      "metadata": {
        "id": "erKQhaWbp9Gk"
      },
      "source": [
        "## Questão 10 - PLUS\n",
        "\n",
        "Utilizando apenas a sintaxe do pyspark, faça uma função que calcule a moda do dataframe para um grupo de colunas que o usuário vai especificar. Além da moda, o dataframe de saída deve conter a quantidade de vezes que a moda aparece, e tambem se é multimodal.\n",
        "\n",
        "Sua função deve receber como entrada:\n",
        "- O pyspark dataframe\n",
        "- A coluna-alvo que desejamos saber a moda e\n",
        "- Os grupos (colunas do dataframe) que iremos considerar para calcular a moda \n",
        "\n",
        "O resultado será uma linha por grupo, contendo a identificação do grupo, a moda, a quantidade de vezes que apareceu, e se é um caso multimodal.\n",
        "\n",
        "Por exemplo, considerando o seguinte dataframe:\n",
        "\n",
        "```\n",
        "df_test = spark.createDataFrame([\n",
        "  (2.4,'A','A1'), (2.4,'A','A1'), (2.5,'A','A1'), (2.6,'A','A1'), (2.7,'A','A1'),\n",
        "  (2.4,'B','A1'), (2.5,'B','A1'), (2.5,'B','A1'), (2.6,'B','A1'), (2.4,'B','A1')\n",
        "], ('values','inner_group', 'main_group')).select('main_group', 'inner_group', 'values')\n",
        "\n",
        "df_test.show()\n",
        "```\n",
        "\n",
        "```\n",
        "+----------+-----------+------+\n",
        "|main_group|inner_group|values|\n",
        "+----------+-----------+------+\n",
        "|        A1|          A|   2.4|\n",
        "|        A1|          A|   2.4|\n",
        "|        A1|          A|   2.5|\n",
        "|        A1|          A|   2.6|\n",
        "|        A1|          A|   2.7|\n",
        "|        A1|          B|   2.4|\n",
        "|        A1|          B|   2.5|\n",
        "|        A1|          B|   2.5|\n",
        "|        A1|          B|   2.6|\n",
        "|        A1|          B|   2.4|\n",
        "+----------+-----------+------+\n",
        "```\n",
        "\n",
        "Ao aplicar a função:  \n",
        "`calculate_mode(df=df_test, target_col='values', group_cols=['main_group','inner_group']).show()`\n",
        "\n",
        "o retorno deve ser:\n",
        "\n",
        "```\n",
        "+----------+-----------+----+-----------+----------+\n",
        "|main_group|inner_group|mode|mode_counts|multimodal|\n",
        "+----------+-----------+----+-----------+----------+\n",
        "|        A1|          A| 2.4|          2|     false|\n",
        "|        A1|          B| 2.4|          2|      true|\n",
        "+----------+-----------+----+-----------+----------+\n",
        "```\n",
        "\n",
        "pois no grupo `A1-A` o valor 2.4 é o que mais aparece (2x), e nenhum outro valor aparece duas vezes também. Já no grupo `A1-B` o valor 2.4 também é o que mais aparece (2X), porém em conjunto com o 2.5, que também aparece duas 2X. Neste caso, devemos reportar apenas uma das modas e informar que é multimodal."
      ]
    },
    {
      "cell_type": "code",
      "execution_count": 80,
      "metadata": {
        "id": "5mn0_pmKR7yz",
        "colab": {
          "base_uri": "https://localhost:8080/"
        },
        "outputId": "8d01522e-f3ba-4154-ce2c-2899392c6ff6"
      },
      "outputs": [
        {
          "output_type": "stream",
          "name": "stdout",
          "text": [
            "+----------+-----------+------+\n",
            "|main_group|inner_group|values|\n",
            "+----------+-----------+------+\n",
            "|        A1|          A|   2.4|\n",
            "|        A1|          A|   2.4|\n",
            "|        A1|          A|   2.5|\n",
            "|        A1|          A|   2.6|\n",
            "|        A1|          A|   2.7|\n",
            "|        A1|          B|   2.4|\n",
            "|        A1|          B|   2.5|\n",
            "|        A1|          B|   2.5|\n",
            "|        A1|          B|   2.6|\n",
            "|        A1|          B|   2.4|\n",
            "+----------+-----------+------+\n",
            "\n"
          ]
        }
      ],
      "source": [
        "df_test = spark.createDataFrame([\n",
        "  (2.4,'A','A1'), (2.4,'A','A1'), (2.5,'A','A1'), (2.6,'A','A1'), (2.7,'A','A1'),\n",
        "  (2.4,'B','A1'), (2.5,'B','A1'), (2.5,'B','A1'), (2.6,'B','A1'), (2.4,'B','A1')\n",
        "], ('values','inner_group', 'main_group')).select('main_group', 'inner_group', 'values')\n",
        "\n",
        "df_test.show()"
      ]
    },
    {
      "cell_type": "code",
      "source": [
        "def calculate_mode(df, target_col, group_cols=None):\n",
        "  \"\"\"Calculate mode\n",
        "\n",
        "  Parameters\n",
        "  ----------\n",
        "  df : pyspark.DataFrame\n",
        "    The dataframe in which the function will be applied\n",
        "  target_col : str\n",
        "    Column name in which the mode will be calculated from\n",
        "  group_cols : list\n",
        "    List column names to make the group. If None, no grouping will be considered.\n",
        "\n",
        "  Returns\n",
        "  -------\n",
        "  output: pyspark.DataFrame\n",
        "    Dataframe with group identification (one per line), the mode, value counts,\n",
        "    and a column specifying if the group has more than one mode.\n",
        "  \"\"\"\n",
        "\n",
        "  if group_cols is None:\n",
        "    window_vals = Window.partitionBy('count')\n",
        "    df_mode = df.groupby(target_col).count()\n",
        "    max_count = df_mode.select(F.max('count')).collect()[0][0]\n",
        "\n",
        "    df_mode = df_mode.filter(F.col('count')==max_count)\n",
        "    nrows = df_mode.count()\n",
        "\n",
        "    df_mode = df_mode.select(F.col(target_col).alias('mode'), F.col('count').alias('mode_counts'), (F.lit(nrows)>1).alias('multimodal'))\n",
        "\n",
        "  else:\n",
        "    window_grp = Window.partitionBy(*group_cols)\n",
        "    window_grp_vals = Window.partitionBy(*group_cols, target_col)\n",
        "\n",
        "    df_mode = (\n",
        "      df\n",
        "      .withColumn('counts', F.count(F.col(target_col)).over(window_grp_vals))\n",
        "      .withColumn('counts_max', F.max('counts').over(window_grp))\n",
        "      .filter(f'counts = counts_max')\n",
        "      .dropDuplicates(subset=[*group_cols, target_col])\n",
        "      .withColumn('multimodal', F.count(target_col).over(window_grp)>1)\n",
        "      .withColumnRenamed(target_col, 'mode')\n",
        "      .withColumnRenamed('counts_max', 'mode_counts')\n",
        "      .dropDuplicates(subset=[*group_cols])\n",
        "      .select(*group_cols, 'mode', 'mode_counts', 'multimodal')\n",
        "    )\n",
        "  return df_mode"
      ],
      "metadata": {
        "id": "5b-tFeNw2P8Y"
      },
      "execution_count": 81,
      "outputs": []
    },
    {
      "cell_type": "code",
      "source": [
        "calculate_mode(df_test, 'values', ['main_group','inner_group']).show()"
      ],
      "metadata": {
        "colab": {
          "base_uri": "https://localhost:8080/"
        },
        "id": "onqpULjx2Uyy",
        "outputId": "6ba57a58-fdac-4424-fc56-0998d2ee7917"
      },
      "execution_count": 82,
      "outputs": [
        {
          "output_type": "stream",
          "name": "stdout",
          "text": [
            "+----------+-----------+----+-----------+----------+\n",
            "|main_group|inner_group|mode|mode_counts|multimodal|\n",
            "+----------+-----------+----+-----------+----------+\n",
            "|        A1|          A| 2.4|          2|     false|\n",
            "|        A1|          B| 2.4|          2|      true|\n",
            "+----------+-----------+----+-----------+----------+\n",
            "\n"
          ]
        }
      ]
    }
  ],
  "metadata": {
    "colab": {
      "collapsed_sections": [
        "hjE_B03_m9Rt",
        "3hm3CvMdn3Jd",
        "D6PpCkDmnjOv",
        "MS3XUkPRrOzh",
        "GJe0H1AQsL15",
        "qw6Yw6OELil0",
        "qlb1nF-0UTby",
        "ktxA1kpuT1ak",
        "KTKsAT2KUVgZ",
        "Ia7efqBLDCup",
        "sGaTtlhATKJb",
        "LxTa6E2WNOGR",
        "erKQhaWbp9Gk"
      ],
      "provenance": [],
      "toc_visible": true,
      "include_colab_link": true
    },
    "kernelspec": {
      "display_name": "Python 3",
      "name": "python3"
    },
    "language_info": {
      "name": "python"
    }
  },
  "nbformat": 4,
  "nbformat_minor": 0
}